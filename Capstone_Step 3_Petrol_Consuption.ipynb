{
 "cells": [
  {
   "cell_type": "markdown",
   "metadata": {},
   "source": [
    "### Petrol Consumption- RandomForestRegressor\n",
    "### Random Forest  with Python and Scikit-Learn"
   ]
  },
  {
   "cell_type": "code",
   "execution_count": 352,
   "metadata": {},
   "outputs": [],
   "source": [
    "import pandas as pd\n",
    "import numpy as np"
   ]
  },
  {
   "cell_type": "code",
   "execution_count": 353,
   "metadata": {},
   "outputs": [],
   "source": [
    "### Get data\n",
    "dataset = pd.read_csv('petrol_consumption.csv')"
   ]
  },
  {
   "cell_type": "markdown",
   "metadata": {},
   "source": [
    "### Identification of Variables and data type"
   ]
  },
  {
   "cell_type": "code",
   "execution_count": 354,
   "metadata": {},
   "outputs": [
    {
     "data": {
      "text/plain": [
       "Petrol_tax                      float64\n",
       "Average_income                    int64\n",
       "Paved_Highways                    int64\n",
       "Population_Driver_licence(%)    float64\n",
       "Petrol_Consumption                int64\n",
       "dtype: object"
      ]
     },
     "execution_count": 354,
     "metadata": {},
     "output_type": "execute_result"
    }
   ],
   "source": [
    "dataset.dtypes"
   ]
  },
  {
   "cell_type": "markdown",
   "metadata": {},
   "source": [
    "### Summary Statistics"
   ]
  },
  {
   "cell_type": "code",
   "execution_count": 355,
   "metadata": {},
   "outputs": [
    {
     "data": {
      "text/plain": [
       "Petrol_tax                         5.000\n",
       "Average_income                  3063.000\n",
       "Paved_Highways                   431.000\n",
       "Population_Driver_licence(%)       0.451\n",
       "Petrol_Consumption               344.000\n",
       "dtype: float64"
      ]
     },
     "execution_count": 355,
     "metadata": {},
     "output_type": "execute_result"
    }
   ],
   "source": [
    "dataset.min()"
   ]
  },
  {
   "cell_type": "code",
   "execution_count": 356,
   "metadata": {},
   "outputs": [
    {
     "data": {
      "text/plain": [
       "Petrol_tax                         10.000\n",
       "Average_income                   5342.000\n",
       "Paved_Highways                  17782.000\n",
       "Population_Driver_licence(%)        0.724\n",
       "Petrol_Consumption                968.000\n",
       "dtype: float64"
      ]
     },
     "execution_count": 356,
     "metadata": {},
     "output_type": "execute_result"
    }
   ],
   "source": [
    "dataset.max()"
   ]
  },
  {
   "cell_type": "code",
   "execution_count": 357,
   "metadata": {},
   "outputs": [
    {
     "data": {
      "text/plain": [
       "Petrol_tax                         0.950770\n",
       "Average_income                   573.623768\n",
       "Paved_Highways                  3491.507166\n",
       "Population_Driver_licence(%)       0.055470\n",
       "Petrol_Consumption               111.885816\n",
       "dtype: float64"
      ]
     },
     "execution_count": 357,
     "metadata": {},
     "output_type": "execute_result"
    }
   ],
   "source": [
    "dataset.std()"
   ]
  },
  {
   "cell_type": "markdown",
   "metadata": {},
   "source": [
    "### 3. Preparing Data For Training\n",
    "### Two tasks will be performed in this section.\n",
    "### The first task is to divide data into 'attributes' and 'label' sets.\n",
    "### The resultant data is then divided into training and test sets.\n",
    "### The following script divides data into attributes and labels:"
   ]
  },
  {
   "cell_type": "code",
   "execution_count": 358,
   "metadata": {},
   "outputs": [],
   "source": [
    "X = dataset.iloc[:, 0:4].values\n",
    "y = dataset.iloc[:, 4].values"
   ]
  },
  {
   "cell_type": "code",
   "execution_count": 359,
   "metadata": {},
   "outputs": [],
   "source": [
    "### X"
   ]
  },
  {
   "cell_type": "code",
   "execution_count": 360,
   "metadata": {},
   "outputs": [],
   "source": [
    "### y"
   ]
  },
  {
   "cell_type": "markdown",
   "metadata": {},
   "source": [
    "# Finally, let's divide the data into training and testing sets:"
   ]
  },
  {
   "cell_type": "code",
   "execution_count": 361,
   "metadata": {},
   "outputs": [],
   "source": [
    "from sklearn.model_selection import train_test_split\n",
    "\n",
    "X_train, X_test, y_train, y_test = train_test_split(X, y, test_size=0.2, random_state=0)"
   ]
  },
  {
   "cell_type": "markdown",
   "metadata": {},
   "source": [
    "### 4. Feature Scaling  ### +++++++++++++++++++++++++++++++++++++\n",
    "### We know our dataset is not yet a scaled value, for instance the Average_Income\n",
    "### field has values in the range of thousands while Petrol_tax has values in range of tens.\n",
    "### Therefore, it would be beneficial to scale our data (although, as mentioned earlier,\n",
    "### this step isn't as important for the random forests algorithm).\n",
    "### To do so, we will use Scikit-Learn's StandardScaler class.\n",
    "### Execute the following code to do so:\n",
    "### Feature Scaling"
   ]
  },
  {
   "cell_type": "code",
   "execution_count": 362,
   "metadata": {},
   "outputs": [],
   "source": [
    "from sklearn.preprocessing import StandardScaler\n",
    "\n",
    "sc = StandardScaler()\n",
    "X_train = sc.fit_transform(X_train)\n",
    "X_test = sc.transform(X_test)\n",
    "\n",
    "### 5. Training the Algorithm ++++++++++++++++++++++++++++++++++++++++++++\n",
    "### Now that we have scaled our dataset, it is time to train our random forest\n",
    "### algorithm to solve this regression problem. Execute the following code:"
   ]
  },
  {
   "cell_type": "code",
   "execution_count": 363,
   "metadata": {},
   "outputs": [],
   "source": [
    "from sklearn.ensemble import RandomForestRegressor\n",
    "\n",
    "regressor = RandomForestRegressor(n_estimators=20, random_state=0)\n",
    "regressor.fit(X_train, y_train)\n",
    "y_pred = regressor.predict(X_test)"
   ]
  },
  {
   "cell_type": "markdown",
   "metadata": {},
   "source": [
    "### The RandomForestRegressor class of the sklearn.ensemble library is used\n",
    "### to solve regression problems via random forest.\n",
    "### The most important parameter of the RandomForestRegressor class is\n",
    "### the n_estimatorsparameter. This parameter defines the number of trees in the random forest.\n",
    "### We will start with n_estimator=20 to see how our algorithm performs.\n",
    "### You can find details for all of the parameters of RandomForestRegressor here."
   ]
  },
  {
   "cell_type": "markdown",
   "metadata": {},
   "source": [
    "###  Evaluating the Algorithm  ++++++++++++++++++++++++++++++==###\n",
    "### The last and final step of solving a machine learning problem is to evaluate\n",
    "### the performance of the algorithm. For regression problems the metrics used to\n",
    "### evaluate an algorithm are mean absolute error, mean squared error,\n",
    "### and root mean squared error. Execute the following code to find these values:"
   ]
  },
  {
   "cell_type": "code",
   "execution_count": 364,
   "metadata": {},
   "outputs": [
    {
     "name": "stdout",
     "output_type": "stream",
     "text": [
      "Mean Absolute Error: 51.76500000000001\n",
      "\n",
      "Mean Squared Error: 4216.166749999999\n",
      "\n",
      "Root Mean Squared Error: 64.93201637097064\n",
      "\n"
     ]
    }
   ],
   "source": [
    "from sklearn import metrics\n",
    "\n",
    "print('Mean Absolute Error:', metrics.mean_absolute_error(y_test, y_pred))\n",
    "print()\n",
    "print('Mean Squared Error:', metrics.mean_squared_error(y_test, y_pred))\n",
    "print()\n",
    "print('Root Mean Squared Error:', np.sqrt(metrics.mean_squared_error(y_test, y_pred)))\n",
    "print()"
   ]
  },
  {
   "cell_type": "code",
   "execution_count": 365,
   "metadata": {},
   "outputs": [
    {
     "data": {
      "image/png": "[encoded data removed]",
      "text/plain": [
       "<Figure size 1152x576 with 1 Axes>"
      ]
     },
     "metadata": {
      "needs_background": "light"
     },
     "output_type": "display_data"
    }
   ],
   "source": [
    "import matplotlib.pyplot as plt\n",
    "plt.figure(figsize=(16,8))\n",
    "plt.plot(y_pred,  label='y_pred')\n",
    "plt.plot(y_test, label='y_test')\n",
    "plt.xlabel('X_test', fontsize=14)\n",
    "plt.ylabel('Value of y(pred , test)', fontsize=14)\n",
    "plt.title('Comparing predicted values and true values')\n",
    "plt.legend(title='Parameter where:')\n",
    "plt.show()\n"
   ]
  }
 ],
 "metadata": {
  "kernelspec": {
   "display_name": "Python 3",
   "language": "python",
   "name": "python3"
  },
  "language_info": {
   "codemirror_mode": {
    "name": "ipython",
    "version": 3
   },
   "file_extension": ".py",
   "mimetype": "text/x-python",
   "name": "python",
   "nbconvert_exporter": "python",
   "pygments_lexer": "ipython3",
   "version": "3.7.6"
  }
 },
 "nbformat": 4,
 "nbformat_minor": 4
}
